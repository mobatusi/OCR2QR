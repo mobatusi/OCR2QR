{
 "cells": [
  {
   "cell_type": "code",
   "execution_count": 1,
   "metadata": {
    "collapsed": true
   },
   "outputs": [],
   "source": [
    "#!usr/bin/python\n",
    "import girder_client\n",
    "from utils import recurseGetResource, recurseGetItems\n",
    "import re\n",
    "from pprint import pprint\n",
    "import json\n",
    "import numpy as np"
   ]
  },
  {
   "cell_type": "code",
   "execution_count": 4,
   "metadata": {
    "collapsed": true
   },
   "outputs": [],
   "source": [
    "#FUNCTIONS\n",
    "\n",
    "#write a function that renames the patient ID based on the specified format\n",
    "#E0X to ADRC5X\n",
    "#A10 equal to E10 which is ADRC60 (note that AXY is the same as EXY)\n",
    "#OS0X to ADRC5X\n",
    "#OS89 to ADRC39\n",
    "#OS99 to ADRC49\n",
    "#***Note that OS97 is ADRC56\n",
    "#Also note that OSXY is the same 0SXY, this are just mistakes\n",
    "#Also correct any _ to -\n",
    "def correctPatientNames(currentName):\n",
    "    currentName = currentName.replace('_','-')\n",
    "    if currentName.find('ADRC') == -1:\n",
    "        if currentName[0] == 'E' or currentName[0] == 'A':\n",
    "            currentName = currentName.replace('A','ADRC')\n",
    "            currentName = currentName.replace('E','ADRC')\n",
    "        elif currentName.find('OS') == 0 or currentName.find('0S') == 0:\n",
    "            currentName = currentName.replace('OS','ADRC')\n",
    "            currentName = currentName.replace('0S','ADRC')\n",
    "            if currentName[2:3] == '97':\n",
    "                currentName[2:3] == '56'\n",
    "            elif currentName[2] == '0':\n",
    "                currentName[2] == '5'\n",
    "            elif currentName[2] == '8':\n",
    "                currentName[2] == '3'\n",
    "            elif currentName[2] == '9':\n",
    "                currentName[2] == '4'\n",
    "    return currentName\n",
    "\n",
    "#write a function that converts stain types to only one spelled variation of it (e.g. turns all H&E\n",
    "#to HE to match others named that way)\n",
    "def correctStainTypes(currentStainType):\n",
    "    currentStainType = currentStainType.upper()\n",
    "    currentStainType = re.sub('(?i)(ab|at8)','AB',currentStainType)\n",
    "    currentStainType = re.sub('(?i)(he|h&e)','HE',currentStainType)\n",
    "    currentStainType = re.sub('(?i)(pTPD|TDP)','TDP',currentStainType)\n",
    "    currentStainType = re.sub('(?i)(s-m|sm)','SM',currentStainType)\n",
    "    currentStainType = re.sub('(?i)(thiof|thoif)','THIO',currentStainType)\n",
    "    currentStainType = re.sub('(?i)(thio|thoi)','THIO',currentStainType)\n",
    "    return currentStainType\n",
    "\n",
    "#write a function that takes in an dictionary of strings, containing patientID, blockID, staintype,\n",
    "#slideFormat keys, and creates a filename template for that dictionary\n",
    "def makefilename(m):\n",
    "    return m['patientID']+'_'+m['blockID']+'_'+m['stainType']+'.'+m['slideFormat']"
   ]
  },
  {
   "cell_type": "code",
   "execution_count": 6,
   "metadata": {},
   "outputs": [
    {
     "name": "stdout",
     "output_type": "stream",
     "text": [
      "Login or email: admin\n",
      "Password for admin: ········\n"
     ]
    }
   ],
   "source": [
    "API_URL = \"http://digitalslidearchive.emory.edu:8080/api/v1\"\n",
    "gc = girder_client.GirderClient(apiUrl=API_URL)\n",
    "gc.authenticate(interactive=True) "
   ]
  },
  {
   "cell_type": "code",
   "execution_count": 7,
   "metadata": {
    "collapsed": true
   },
   "outputs": [],
   "source": [
    "folderToOrganize_id = '596e3b1492ca9a000b2af2b4'\n",
    "## Folder is ADRC/.DG_ADRC_Slides\n",
    "\n",
    "ADRC_SlideSet = recurseGetItems(gc,folderToOrganize_id) #this function was written by Mohammed and gives back\n",
    "# each json object for each slide (in a array of json objects)"
   ]
  },
  {
   "cell_type": "code",
   "execution_count": 5,
   "metadata": {
    "collapsed": true
   },
   "outputs": [],
   "source": [
    "# save the ADRC_SlideSet in a numpy variable. This avoids running recurseGetItem, which takes a while.\n",
    "# np.save('currentADRC_SlideSet', ADRC_SlideSet)"
   ]
  },
  {
   "cell_type": "code",
   "execution_count": null,
   "metadata": {
    "collapsed": true
   },
   "outputs": [],
   "source": [
    "#if you have the ADRC_SlideSet saved, load it to be used below\n",
    "# ADRC_SlideSet = np.load('currentADRC_SlideSet.npy')"
   ]
  },
  {
   "cell_type": "code",
   "execution_count": 8,
   "metadata": {
    "collapsed": true
   },
   "outputs": [],
   "source": [
    "#compile the regex object to be used later\n",
    "patientID_formats = 'A|E-|0S|ADRC|OS|E|A-'\n",
    "stainType_formats = 'thiof|asyn|lfb|syn|ubiq|tau|biel|ab|AT8|thoi|thio|nf|sm|tdp|ptdp|ptpd|he|H&E|S-M'\n",
    "# re_ADRC_SlideSet = re.compile('(?P<patientID>((A|E-|0S|ADRC|OS|E|A-)\\d{1,3}-\\d{1,3})|((A|E-|A-|0S|ADRC|OS|E)\\d{1,3}_\\d{1,3}))(_|-)(?P<blockID>.*)(?P<stainType>(?i)(thiof|asyn|lfb|syn|ubiq|tau|biel|ab|AT8|thoi|thio|nf|sm|tdp|ptdp|ptpd|he|H&E|S-M).*).(?P<slideFormat>(svs|ndpi))')\n",
    "re_ADRC_SlideSet = re.compile('(?P<patientID>(('+patientID_formats+')\\d{1,3}(-|_)\\d{1,3}))(-|_)(?P<blockID1>.*)(?P<stainType>(?i)('+stainType_formats+'))(?P<blockID2>.*).(?P<slideFormat>(svs|ndpi))')\n",
    "# re_ADRC_SlideSet = re.compile('(?P<patientID>(('+patientID_formats+')\\d{1,3}(-|_)\\d{1,3}))(-|_)(?P<blockID1>.*)(?P<stainType>(?i)('+stainType_formats+')).(?P<slideFormat>(svs|ndpi))')"
   ]
  },
  {
   "cell_type": "code",
   "execution_count": 9,
   "metadata": {
    "collapsed": true
   },
   "outputs": [],
   "source": [
    "#make a regex object that checks for the word control (case insensitive)\n",
    "ignore_ADRC_SlideSet = re.compile('(?P<controlFlag>(\\+|note|plus|neg|pos|minus|rename|control|cntrl|ctrl|contrl))', re.IGNORECASE)"
   ]
  },
  {
   "cell_type": "code",
   "execution_count": 14,
   "metadata": {
    "collapsed": true
   },
   "outputs": [],
   "source": [
    "successSlides = []\n",
    "ignoreSlides = []\n",
    "toBeSortedSlides = []\n",
    "failedSlide = {'Attention':'This slide needs to be manually renamed and meta data added!',\n",
    "              'patientID':'Blank', 'blockID':'Blank', 'stainType':'Blank', 'slideFormat':'Blank',\n",
    "              'currentFileName': 'Blank', 'JCFileName': 'Blank'}\n",
    "#slides w/ stain type asyn and syn are a problem since asyn is not fully caught cause syn takes precedence.\n",
    "#to avoid always replace any asyn or a-syn found (case insensitive) w/ syn\n",
    "\n",
    "for sld in ADRC_SlideSet:\n",
    "    if ignore_ADRC_SlideSet.search(sld['name']): #find all control like words and ignore the slides\n",
    "        ignoreSlides.append(sld)\n",
    "    elif sld['name'].endswith(tuple(['.text','.xml','.txt'])): #unwanted file types\n",
    "        ignoreSlides.append(sld)\n",
    "    elif sld['name'].find('check') != -1: #this word gets caught as HE\n",
    "        gc.addMetadataToItem(sld['_id'],failedSlide)\n",
    "        toBeSortedSlides.append(sld)\n",
    "    else:\n",
    "        sld['name'] = re.sub('(?i)(asyn|a-syn)','syn',sld['name'])\n",
    "        m = re_ADRC_SlideSet.search(sld['name'])\n",
    "        #2 options: regex fit the current name or not\n",
    "        if m:\n",
    "            m_group = m.groupdict()\n",
    "            if m_group['blockID1'].endswith(tuple(['-','_'])):\n",
    "                m_group['blockID1'] = m_group['blockID1'][:-1]\n",
    "#             if m_group['blockID2'].startswith(tuple(['-','_'])):\n",
    "#                 m_group['blockID2'] = m_group['blockID2'][1:]\n",
    "#             m_group['blockID'] = m_group['blockID1'] + m_group['blockID2']\n",
    "            m_group['blockID'] = m_group['blockID1'].upper()\n",
    "            m_group.pop('blockID1')\n",
    "            m_group.pop('blockID2')\n",
    "            m_group['patientID'] = correctPatientNames(m_group['patientID'])\n",
    "            m_group['stainType'] = correctStainTypes(m_group['stainType'])\n",
    "            m_group['JCFileName'] = makefilename(m_group)\n",
    "            m_group['currentFileName'] = sld['name']\n",
    "            m_group['Attention'] = None\n",
    "            gc.addMetadataToItem(sld['_id'], m_group)\n",
    "            sld['meta'] = m_group\n",
    "            successSlides.append(sld)\n",
    "        else:\n",
    "            gc.addMetadataToItem(sld['_id'],failedSlide)\n",
    "            toBeSortedSlides.append(sld)"
   ]
  },
  {
   "cell_type": "code",
   "execution_count": 18,
   "metadata": {},
   "outputs": [
    {
     "name": "stdout",
     "output_type": "stream",
     "text": [
      "Number of slides that were successfully sorted:  7697\n",
      "Number of slides that need sorting:  593\n",
      "Number of slides ignored:  1985\n"
     ]
    }
   ],
   "source": [
    "print 'Number of slides that were successfully sorted: ', len(successSlides)\n",
    "print 'Number of slides that need sorting: ',len(toBeSortedSlides)\n",
    "print 'Number of slides ignored: ',len(ignoreSlides)"
   ]
  },
  {
   "cell_type": "code",
   "execution_count": 16,
   "metadata": {
    "collapsed": true
   },
   "outputs": [],
   "source": [
    "#save the results of the current run as a json file\n",
    "# with open('successSlides.json', 'w') as outfile:\n",
    "#     json.dump(successSlides, outfile)\n",
    "#     outfile.close()\n",
    "# with open('toBeSortedSlides.json', 'w') as outfile2:\n",
    "#     json.dump(toBeSortedSlides, outfile2)\n",
    "#     outfile2.close()\n",
    "# with open('ignoreSlides.json','w') as outfile3:\n",
    "#     json.dump(ignoreSlides,outfile3)\n",
    "#     outfile3.close()"
   ]
  }
 ],
 "metadata": {
  "kernelspec": {
   "display_name": "Python 2",
   "language": "python",
   "name": "python2"
  },
  "language_info": {
   "codemirror_mode": {
    "name": "ipython",
    "version": 2
   },
   "file_extension": ".py",
   "mimetype": "text/x-python",
   "name": "python",
   "nbconvert_exporter": "python",
   "pygments_lexer": "ipython2",
   "version": "2.7.12"
  }
 },
 "nbformat": 4,
 "nbformat_minor": 2
}
