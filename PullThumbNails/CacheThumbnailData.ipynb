{
 "cells": [
  {
   "cell_type": "code",
   "execution_count": 6,
   "metadata": {
    "collapsed": true,
    "scrolled": true
   },
   "outputs": [],
   "source": [
    "#!/usr/bin/python\n",
    "\n",
    "#This code now pulls down the label image for fox data directories, runs OCR on it, and saves both the\n",
    "#label image, QR image, and output text file\n",
    "#imports for OCR\n",
    "import ctypes\n",
    "import gc\n",
    "import pprint\n",
    "import qrcode\n",
    "\n",
    "from pytesseract import *\n",
    "from time import sleep\n",
    "\n",
    "import imghdr #this module helps in determining what type of image files a file is (e.g. png vs jpeg)\n",
    "import pullMacroLabelThumb_Images as pmti\n",
    "import requests\n",
    "from os.path import join as oj\n",
    "import os\n",
    "from IPython.display import Image\n",
    "reload(pmti)   \n",
    "from PIL import Image\n",
    "import pytesseract"
   ]
  },
  {
   "cell_type": "code",
   "execution_count": 7,
   "metadata": {},
   "outputs": [
    {
     "name": "stdout",
     "output_type": "stream",
     "text": [
      "/home/juan_carlos/Dropbox/Gutman_Lab/OCR2QR/PullThumbNails/cacheDir\n"
     ]
    }
   ],
   "source": [
    "BaseURL = 'http://candygram.neurology.emory.edu:8080/api/v1/'\n",
    "\n",
    "localImageCacheDir =  oj( os.getcwd(), \"cacheDir\")\n",
    "print localImageCacheDir\n",
    "url_FoxTopLevel_Folders = 'http://candygram.neurology.emory.edu:8080/api/v1/folder?parentType=collection&parentId=595d08b392ca9a000d0748df&limit=50&sort=lowerName&sortdir=1'\n",
    "#ImageURL = \"http://candygram.neurology.emory.edu:8080/api/v1/item/595b7b4292ca9a000d071697/tiles/images/\";\n",
    "#ImageBaseURL = \"http://candygram.neurology.emory.edu:8080/api/v1/item/\";\n",
    "  "
   ]
  },
  {
   "cell_type": "code",
   "execution_count": 8,
   "metadata": {
    "collapsed": true
   },
   "outputs": [],
   "source": [
    "# The bottom two lines were used for testing the request method and how to display the image\n",
    "# MyImgData = requests.request(\"GET\",\"http://candygram.neurology.emory.edu:8080/api/v1/item/595d0e0492ca9a000dd570f6/tiles/images/label?height=512\")\n",
    "# Image(MyImgData.content)"
   ]
  },
  {
   "cell_type": "code",
   "execution_count": 9,
   "metadata": {
    "collapsed": true
   },
   "outputs": [],
   "source": [
    "def GetThumbnail( imageID, localCacheDir, slideName, folderName, thumbnailHeight=512 ):\n",
    "    \"\"\"This will download a thumbnail for a given imageID and put it somewhere\n",
    "    The slide basename is the name of the slide..\"\"\"\n",
    "    targetThumbNailPath = oj( localCacheDir, folderName)\n",
    "#     print targetThumbNailPath\n",
    "    \n",
    "    if not os.path.isdir( targetThumbNailPath):\n",
    "        os.makedirs(targetThumbNailPath)\n",
    "    \n",
    "    thumbFileName = slideName + \".thumb.labelImage.%d.jpg\" % thumbnailHeight\n",
    "    imgFileWPath = oj( targetThumbNailPath, thumbFileName)\n",
    "\n",
    "    thumbFileNameText = slideName + slideName + \".thumb.labelImage.%d.txt\" % thumbnailHeight\n",
    "    imgFileWPathText = oj( targetThumbNailPath, thumbFileNameText)\n",
    "    \n",
    "    if not os.path.isfile( imgFileWPath ):\n",
    "        ## We don't have the thumbnail.. so get it\n",
    "        currentImageURL = \"%sitem/%s/tiles/images/label?height=%d\" % (BaseURL, imageID, thumbnailHeight) \n",
    "        ImgData = requests.request(\"GET\",currentImageURL)\n",
    "        with open(imgFileWPath,\"w\") as fp:\n",
    "            fp.write(ImgData.content)\n",
    "#             print imgFileWPath\n",
    "#         if imghdr.what(imgFileWPath) == 'jpeg':\n",
    "#             im = Image.open(imgFileWPath)\n",
    "#             text = image_to_string(im)\n",
    "#             output = open(imgFileWPathText, \"w\")\n",
    "#             output.write(text)\n",
    "#             output.close()\n",
    "            \n",
    "    \n",
    "    \n",
    "    #currentImageURL = ImageBaseURL + DataForCurrentRow._id + \"/tiles/images/label?height=\" + thumbHeight\n",
    "     "
   ]
  },
  {
   "cell_type": "code",
   "execution_count": 10,
   "metadata": {
    "scrolled": true
   },
   "outputs": [
    {
     "name": "stdout",
     "output_type": "stream",
     "text": [
      " 53 items are in the 2017-05-12 folder\n",
      " 6 items are in the 2017-05-13 folder\n",
      " 105 items are in the 2017-05-15 folder\n",
      " 45 items are in the 2017-06-15 folder\n",
      " 59 items are in the 2017-06-16 folder\n",
      " 88 items are in the 2017-06-19 folder\n",
      " 70 items are in the 2017-06-20 folder\n",
      " 1 items are in the 2017-06-21 folder\n",
      " 25 items are in the 2017-06-22 folder\n",
      " 390 items are in the 2017-06-23 folder\n",
      " 166 items are in the 2017-06-24 folder\n",
      " 0 items are in the TEST_UPLOAD folder\n"
     ]
    }
   ],
   "source": [
    "MyFolderSet = requests.request(\"GET\",url_FoxTopLevel_Folders).json()\n",
    "for mfs in MyFolderSet:\n",
    "    ## Iterate through the top level folders and get some thumbnails....\n",
    "\n",
    "    ItemsInFolder = pmti.ListItemsInGirderFolder( mfs['_id'])\n",
    "    print \" %d items are in the %s folder\" % (len(ItemsInFolder), mfs['name'])\n",
    "    \n",
    "    \n",
    "    for iif in ItemsInFolder:\n",
    "        folderName = mfs['name']\n",
    "        thumbHeight = 512\n",
    "        slideName = iif['name']\n",
    "        GetThumbnail( iif['_id'], localImageCacheDir, slideName, folderName )\n"
   ]
  },
  {
   "cell_type": "code",
   "execution_count": null,
   "metadata": {
    "collapsed": true
   },
   "outputs": [],
   "source": []
  }
 ],
 "metadata": {
  "kernelspec": {
   "display_name": "Python 2",
   "language": "python",
   "name": "python2"
  },
  "language_info": {
   "codemirror_mode": {
    "name": "ipython",
    "version": 2
   },
   "file_extension": ".py",
   "mimetype": "text/x-python",
   "name": "python",
   "nbconvert_exporter": "python",
   "pygments_lexer": "ipython2",
   "version": "2.7.13"
  }
 },
 "nbformat": 4,
 "nbformat_minor": 1
}
