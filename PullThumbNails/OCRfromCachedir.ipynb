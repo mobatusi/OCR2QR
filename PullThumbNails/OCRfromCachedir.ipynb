{
 "cells": [
  {
   "cell_type": "code",
   "execution_count": 59,
   "metadata": {},
   "outputs": [],
   "source": [
    "#!/usr/bin/python\n",
    "\n",
    "#The code below cycles through cacheDir and runs OCR on the jpg image\n",
    "#It then saves the text output of the OCR and its corresponding QR code\n",
    "#Note that if there already exists text and QR code files for this image, it will overwrite them. \n",
    "\n",
    "#modules needed\n",
    "import os\n",
    "import imghdr\n",
    "from PIL import Image\n",
    "from pytesseract import * #this is required to run OCR\n",
    "import sys #this is here because it prevents the error: Unicode encode error\n",
    "reload(sys)\n",
    "sys.setdefaultencoding('utf-8')"
   ]
  },
  {
   "cell_type": "code",
   "execution_count": 60,
   "metadata": {
    "collapsed": true
   },
   "outputs": [],
   "source": [
    "#useful variables\n",
    "mydir = \"/home/juan_carlos/Dropbox/Gutman_Lab/OCR2QR/PullThumbNails/cacheDir\" #cacheDir path\n"
   ]
  },
  {
   "cell_type": "code",
   "execution_count": 61,
   "metadata": {
    "collapsed": true
   },
   "outputs": [],
   "source": [
    "#code goes here\n",
    "#the code below does not work because inside cacheDir, there are more directories\n",
    "#I need code that can go traverse through all the subdirectories of cacheDir\n",
    "# import glob, os\n",
    "# os.chdir(\"/home/juan_carlos/Dropbox/Gutman_Lab/OCR2QR/PullThumbNails/cacheDir\")\n",
    "# for file in glob.glob(\"*.jpeg\"):\n",
    "#     print \"hello\"\n"
   ]
  },
  {
   "cell_type": "code",
   "execution_count": 62,
   "metadata": {
    "scrolled": true
   },
   "outputs": [],
   "source": [
    "#this nested for loop is able to sift through every subdirectory of cacheDir\n",
    "for root, dirs, files in os.walk(mydir):\n",
    "    for file in files:\n",
    "        if file.endswith(\".jpg\"):\n",
    "            cImagePath = os.path.join(root, file)\n",
    "            #if the file is a jpeg, then run OCR\n",
    "            if imghdr.what(cImagePath) == 'jpeg':\n",
    "                im = Image.open(cImagePath)\n",
    "                text = image_to_string(im) #run OCR\n",
    "#                 print text #to test out how the OCR is running\n",
    "                #make new file path names (OCR) & QR Code\n",
    "                cTextPath = cImagePath[0:len(cImagePath)-4] + \"OCRoutput.txt\"\n",
    "                cQRPath = cImagePath[0:len(cImagePath)-4] + \"OCR_QR.png\"\n",
    "                #save the OCR text output files & QR codes\n",
    "                print text\n",
    "                textOutput = open(cTextPath, \"w\")\n",
    "                textOutput.write(text)\n",
    "                textOutput.close()\n",
    "                cQR = qrcode.make(text) #make QR code\n",
    "                cQR.save(cQRPath)"
   ]
  },
  {
   "cell_type": "code",
   "execution_count": null,
   "metadata": {
    "collapsed": true
   },
   "outputs": [],
   "source": []
  }
 ],
 "metadata": {
  "kernelspec": {
   "display_name": "Python 2",
   "language": "python",
   "name": "python2"
  },
  "language_info": {
   "codemirror_mode": {
    "name": "ipython",
    "version": 2
   },
   "file_extension": ".py",
   "mimetype": "text/x-python",
   "name": "python",
   "nbconvert_exporter": "python",
   "pygments_lexer": "ipython2",
   "version": "2.7.13"
  }
 },
 "nbformat": 4,
 "nbformat_minor": 2
}
