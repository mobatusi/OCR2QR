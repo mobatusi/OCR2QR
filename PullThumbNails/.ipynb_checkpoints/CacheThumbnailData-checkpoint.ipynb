{
 "cells": [
  {
   "cell_type": "code",
   "execution_count": 1,
   "metadata": {
    "collapsed": true,
    "scrolled": true
   },
   "outputs": [],
   "source": [
    "#!/usr/bin/python\n",
    "\n",
    "#This code now pulls down the label image for fox data directories, runs OCR on it, and saves both the\n",
    "#label image, QR image, and output text file\n",
    "#imports for OCR\n",
    "import ctypes\n",
    "import gc\n",
    "import pprint\n",
    "import qrcode\n",
    "\n",
    "from pytesseract import *\n",
    "from time import sleep\n",
    "\n",
    "import imghdr #this module helps in determining what type of image files a file is (e.g. png vs jpeg)\n",
    "import pullMacroLabelThumb_Images as pmti\n",
    "import requests\n",
    "from os.path import join as oj\n",
    "import os\n",
    "from IPython.display import Image\n",
    "reload(pmti)   \n",
    "from PIL import Image\n",
    "import pytesseract"
   ]
  },
  {
   "cell_type": "code",
   "execution_count": 2,
   "metadata": {},
   "outputs": [
    {
     "name": "stdout",
     "output_type": "stream",
     "text": [
      "/home/juan_carlos/Dropbox/Gutman_Lab/OCR2QR/PullThumbNails/cacheDir\n"
     ]
    }
   ],
   "source": [
    "BaseURL = 'http://candygram.neurology.emory.edu:8080/api/v1/'\n",
    "\n",
    "localImageCacheDir =  oj( os.getcwd(), \"cacheDir\")\n",
    "print localImageCacheDir\n",
    "url_FoxTopLevel_Folders = 'http://candygram.neurology.emory.edu:8080/api/v1/folder?parentType=collection&parentId=595d08b392ca9a000d0748df&limit=50&sort=lowerName&sortdir=1'\n",
    "#ImageURL = \"http://candygram.neurology.emory.edu:8080/api/v1/item/595b7b4292ca9a000d071697/tiles/images/\";\n",
    "#ImageBaseURL = \"http://candygram.neurology.emory.edu:8080/api/v1/item/\";\n",
    "  "
   ]
  },
  {
   "cell_type": "code",
   "execution_count": 3,
   "metadata": {
    "collapsed": true
   },
   "outputs": [],
   "source": [
    "# The bottom two lines were used for testing the request method and how to display the image\n",
    "# MyImgData = requests.request(\"GET\",\"http://candygram.neurology.emory.edu:8080/api/v1/item/595d0e0492ca9a000dd570f6/tiles/images/label?height=512\")\n",
    "# Image(MyImgData.content)"
   ]
  },
  {
   "cell_type": "code",
   "execution_count": 13,
   "metadata": {
    "collapsed": true
   },
   "outputs": [],
   "source": [
    "def GetThumbnail( imageID, localCacheDir, slideName, folderName, thumbnailHeight=512 ):\n",
    "    \"\"\"This will download a thumbnail for a given imageID and put it somewhere\n",
    "    The slide basename is the name of the slide..\"\"\"\n",
    "    targetThumbNailPath = oj( localCacheDir, folderName)\n",
    "#     print targetThumbNailPath\n",
    "    \n",
    "    if not os.path.isdir( targetThumbNailPath):\n",
    "        os.makedirs(targetThumbNailPath)\n",
    "    \n",
    "    thumbFileName = slideName + \".thumb.labelImage.%d.jpg\" % thumbnailHeight\n",
    "    imgFileWPath = oj( targetThumbNailPath, thumbFileName)\n",
    "\n",
    "    thumbFileNameText = slideName + slideName + \".thumb.labelImage.%d.txt\" % thumbnailHeight\n",
    "    imgFileWPathText = oj( targetThumbNailPath, thumbFileNameText)\n",
    "    \n",
    "    if not os.path.isfile( imgFileWPath ):\n",
    "        ## We don't have the thumbnail.. so get it\n",
    "        currentImageURL = \"%sitem/%s/tiles/images/label?height=%d\" % (BaseURL, imageID, thumbnailHeight) \n",
    "        ImgData = requests.request(\"GET\",currentImageURL)\n",
    "        with open(imgFileWPath,\"w\") as fp:\n",
    "            fp.write(ImgData.content)\n",
    "#             print imgFileWPath\n",
    "        if imghdr.what(imgFileWPath) == 'jpeg':\n",
    "            print \"111\"\n",
    "            im = Image.open(imgFileWPath)\n",
    "            print \"222\"\n",
    "            text = image_to_string(im)\n",
    "            print text\n",
    "            output = open(imgFileWPathText, \"w\")\n",
    "            print \"333\"\n",
    "            print text\n",
    "            output.write(text)\n",
    "            print \"444\"\n",
    "            output.close()\n",
    "            print \"555\"\n",
    "            \n",
    "    \n",
    "    \n",
    "    #currentImageURL = ImageBaseURL + DataForCurrentRow._id + \"/tiles/images/label?height=\" + thumbHeight\n",
    "     "
   ]
  },
  {
   "cell_type": "code",
   "execution_count": 14,
   "metadata": {
    "scrolled": true
   },
   "outputs": [
    {
     "name": "stdout",
     "output_type": "stream",
     "text": [
      " 53 items are in the 2017-05-12 folder\n",
      "111\n",
      "222\n",
      "Fox17U LH Mid\n",
      "\n",
      "4/12/17\n",
      "\n",
      "    \n",
      "\n",
      "SPEC/MEN\n",
      "333\n",
      "444\n",
      "555\n",
      "111\n",
      "222\n",
      "Fox17U LH Mid 7\n",
      "* Col. 7 S. 19\n",
      "\n",
      "Nissl\n",
      "4/12/17\n",
      "\n",
      "    \n",
      "\n",
      "' SPEC/MEN\n",
      "333\n",
      "444\n",
      "555\n",
      "111\n",
      "222\n",
      "Fox17U LH Mid ;..\n",
      "\n",
      "Col. 7 S. 31\n",
      "Nissl\n",
      "4/12/17\n",
      "\n",
      "    \n",
      "\n",
      "‘ SPEC/MEN\n",
      "333\n"
     ]
    },
    {
     "ename": "UnicodeEncodeError",
     "evalue": "'ascii' codec can't encode character u'\\u2018' in position 53: ordinal not in range(128)",
     "output_type": "error",
     "traceback": [
      "\u001b[0;31m---------------------------------------------------------------------------\u001b[0m",
      "\u001b[0;31mUnicodeEncodeError\u001b[0m                        Traceback (most recent call last)",
      "\u001b[0;32m<ipython-input-14-9f81536de8b6>\u001b[0m in \u001b[0;36m<module>\u001b[0;34m()\u001b[0m\n\u001b[1;32m     11\u001b[0m         \u001b[0mthumbHeight\u001b[0m \u001b[0;34m=\u001b[0m \u001b[0;36m512\u001b[0m\u001b[0;34m\u001b[0m\u001b[0m\n\u001b[1;32m     12\u001b[0m         \u001b[0mslideName\u001b[0m \u001b[0;34m=\u001b[0m \u001b[0miif\u001b[0m\u001b[0;34m[\u001b[0m\u001b[0;34m'name'\u001b[0m\u001b[0;34m]\u001b[0m\u001b[0;34m\u001b[0m\u001b[0m\n\u001b[0;32m---> 13\u001b[0;31m         \u001b[0mGetThumbnail\u001b[0m\u001b[0;34m(\u001b[0m \u001b[0miif\u001b[0m\u001b[0;34m[\u001b[0m\u001b[0;34m'_id'\u001b[0m\u001b[0;34m]\u001b[0m\u001b[0;34m,\u001b[0m \u001b[0mlocalImageCacheDir\u001b[0m\u001b[0;34m,\u001b[0m \u001b[0mslideName\u001b[0m\u001b[0;34m,\u001b[0m \u001b[0mfolderName\u001b[0m \u001b[0;34m)\u001b[0m\u001b[0;34m\u001b[0m\u001b[0m\n\u001b[0m",
      "\u001b[0;32m<ipython-input-13-9e6f2ea53b48>\u001b[0m in \u001b[0;36mGetThumbnail\u001b[0;34m(imageID, localCacheDir, slideName, folderName, thumbnailHeight)\u001b[0m\n\u001b[1;32m     29\u001b[0m             \u001b[0moutput\u001b[0m \u001b[0;34m=\u001b[0m \u001b[0mopen\u001b[0m\u001b[0;34m(\u001b[0m\u001b[0mimgFileWPathText\u001b[0m\u001b[0;34m,\u001b[0m \u001b[0;34m\"w\"\u001b[0m\u001b[0;34m)\u001b[0m\u001b[0;34m\u001b[0m\u001b[0m\n\u001b[1;32m     30\u001b[0m             \u001b[0;32mprint\u001b[0m \u001b[0;34m\"333\"\u001b[0m\u001b[0;34m\u001b[0m\u001b[0m\n\u001b[0;32m---> 31\u001b[0;31m             \u001b[0moutput\u001b[0m\u001b[0;34m.\u001b[0m\u001b[0mwrite\u001b[0m\u001b[0;34m(\u001b[0m\u001b[0mtext\u001b[0m\u001b[0;34m)\u001b[0m\u001b[0;34m\u001b[0m\u001b[0m\n\u001b[0m\u001b[1;32m     32\u001b[0m             \u001b[0;32mprint\u001b[0m \u001b[0;34m\"444\"\u001b[0m\u001b[0;34m\u001b[0m\u001b[0m\n\u001b[1;32m     33\u001b[0m             \u001b[0moutput\u001b[0m\u001b[0;34m.\u001b[0m\u001b[0mclose\u001b[0m\u001b[0;34m(\u001b[0m\u001b[0;34m)\u001b[0m\u001b[0;34m\u001b[0m\u001b[0m\n",
      "\u001b[0;31mUnicodeEncodeError\u001b[0m: 'ascii' codec can't encode character u'\\u2018' in position 53: ordinal not in range(128)"
     ]
    }
   ],
   "source": [
    "MyFolderSet = requests.request(\"GET\",url_FoxTopLevel_Folders).json()\n",
    "for mfs in MyFolderSet:\n",
    "    ## Iterate through the top level folders and get some thumbnails....\n",
    "\n",
    "    ItemsInFolder = pmti.ListItemsInGirderFolder( mfs['_id'])\n",
    "    print \" %d items are in the %s folder\" % (len(ItemsInFolder), mfs['name'])\n",
    "    \n",
    "    \n",
    "    for iif in ItemsInFolder:\n",
    "        folderName = mfs['name']\n",
    "        thumbHeight = 512\n",
    "        slideName = iif['name']\n",
    "        GetThumbnail( iif['_id'], localImageCacheDir, slideName, folderName )\n"
   ]
  },
  {
   "cell_type": "code",
   "execution_count": null,
   "metadata": {
    "collapsed": true
   },
   "outputs": [],
   "source": []
  }
 ],
 "metadata": {
  "kernelspec": {
   "display_name": "Python 2",
   "language": "python",
   "name": "python2"
  },
  "language_info": {
   "codemirror_mode": {
    "name": "ipython",
    "version": 2
   },
   "file_extension": ".py",
   "mimetype": "text/x-python",
   "name": "python",
   "nbconvert_exporter": "python",
   "pygments_lexer": "ipython2",
   "version": "2.7.13"
  }
 },
 "nbformat": 4,
 "nbformat_minor": 1
}
