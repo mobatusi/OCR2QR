{
 "cells": [
  {
   "cell_type": "code",
   "execution_count": 57,
   "metadata": {},
   "outputs": [],
   "source": [
    "#!/usr/bin/python\n",
    "import imghdr\n",
    "import os\n",
    "import pytesseract\n",
    "import ctypes\n",
    "import gc\n",
    "import pprint\n",
    "import qrcode\n",
    "\n",
    "from PIL import Image\n",
    "from pytesseract import *\n",
    "from time import sleep"
   ]
  },
  {
   "cell_type": "code",
   "execution_count": 58,
   "metadata": {},
   "outputs": [],
   "source": [
    "#All the stuff below (in this cell) is for when using the raspberry pi, which I am not doing there so it\n",
    "#is commented it out. \n",
    "#from qrcode import *\n",
    "\n",
    "# take a picture via the webcam. Eventually we will switch to using the pi camera\n",
    "\n",
    "#os.system(\"fswebcam -S 20 --no-banner -r 640x480 image.tif\")\n",
    "#mImgFile = \"image.tif\"\n",
    "\n",
    "#camera = PiCamera()\n",
    "#camera.resolution = (2592, 1944)#Mac resolution allowed\n",
    "#camera.resolution = (64, 64)# Min resolution allowed\n",
    "#You can alter the brightness setting, which can be set from 0 to 100. The default is 50.\n",
    "\n",
    "# camera.framerate = 15\n",
    "# camera.start_preview()\n",
    "# for i in range(100):\n",
    "#     camera.annotate_text = \"Brightness: %s\" % i\n",
    "#     camera.brightness = i\n",
    "#     sleep(0.1)\n",
    "#     #sleep(5)"
   ]
  },
  {
   "cell_type": "code",
   "execution_count": 59,
   "metadata": {
    "scrolled": true
   },
   "outputs": [
    {
     "data": {
      "text/plain": [
       "'jpeg'"
      ]
     },
     "execution_count": 59,
     "metadata": {},
     "output_type": "execute_result"
    }
   ],
   "source": [
    "#The below part of this cell is not neccessary, since all is doing is getting the image from \n",
    "#the camera, which in our case is being supplied from a file. \n",
    "# for i in range(100): #goes from 0 to 99\n",
    "#     camera.annotate_text = \"Contrast: %s\" % i\n",
    "#     camera.contrast = i\n",
    "#     sleep(0.1)\n",
    "# camera.capture('/home/pi/Documents/Projects/OCR2QR/image.jpg')\n",
    "# camera.stop_preview()\n",
    "#file is currently static\n",
    "mImgFile = \"/home/juan_carlos/Dropbox/Gutman_Lab/OCR2QR/PullThumbNails/cacheDir/2017-05-12/1008028.svs.thumb.labelImage.512.jpg\"\n",
    "imghdr.what(mImgFile)\n",
    "# mImgFile = \"1008028.svs.thumb.labelImage.512.jpg\""
   ]
  },
  {
   "cell_type": "code",
   "execution_count": 60,
   "metadata": {},
   "outputs": [
    {
     "name": "stdout",
     "output_type": "stream",
     "text": [
      "Fox17U LH Mid\n",
      "\n",
      "4/12/17\n",
      "\n",
      "    \n",
      "\n",
      "SPEC/MEN\n"
     ]
    }
   ],
   "source": [
    "im = Image.open(mImgFile)\n",
    "text = image_to_string(im)\n",
    "\n",
    "print (text)\n",
    "output = open(\"output\", \"w\")\n",
    "output.write(text)\n",
    "output.close()\n",
    "#im.show()\n",
    "\n",
    "#qr = QRCode(version=20, error_correction=ERROR_CORRECT_L)\n",
    "img = qrcode.make(text)\n",
    "#qr.make() #Generate the QRCode itself\n",
    "\n",
    "#im = qr.make_image()\n",
    "\n",
    "#TO Save it\n",
    "img.save(\"QRCode.png\")\n",
    "img.show()\n"
   ]
  },
  {
   "cell_type": "code",
   "execution_count": null,
   "metadata": {
    "collapsed": true
   },
   "outputs": [],
   "source": [
    "hello = \"hello\"\n",
    "print hello + \"/dkfdsjd.txt\""
   ]
  },
  {
   "cell_type": "code",
   "execution_count": null,
   "metadata": {
    "collapsed": true
   },
   "outputs": [],
   "source": []
  }
 ],
 "metadata": {
  "kernelspec": {
   "display_name": "Python 2",
   "language": "python",
   "name": "python2"
  },
  "language_info": {
   "codemirror_mode": {
    "name": "ipython",
    "version": 2
   },
   "file_extension": ".py",
   "mimetype": "text/x-python",
   "name": "python",
   "nbconvert_exporter": "python",
   "pygments_lexer": "ipython2",
   "version": "2.7.13"
  }
 },
 "nbformat": 4,
 "nbformat_minor": 2
}
